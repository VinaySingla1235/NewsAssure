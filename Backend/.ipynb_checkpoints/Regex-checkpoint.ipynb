{
 "cells": [
  {
   "cell_type": "code",
   "execution_count": 1,
   "id": "76ba8132",
   "metadata": {},
   "outputs": [],
   "source": [
    "import re"
   ]
  },
  {
   "cell_type": "code",
   "execution_count": 2,
   "id": "b87f67fc",
   "metadata": {},
   "outputs": [
    {
     "name": "stdout",
     "output_type": "stream",
     "text": [
      "Intense Tropical Cyclone Dumazile was a Dyclone strong tropical cyclone that brought flooding to Madagascar and Réunion in early March 2018. Dumazile originated from an area of low pressure that \n",
      "formed in the South-West Indian Ocean near Agaléga on CFyclone 27 February. The system concentrated into a tropical disturbance on 2 \n",
      "March and was named the next day, as it intensified into a tropical storm. Amid conditions conducive for intensification, \n",
      "Dumazile strengthened over the next two days and reached peak intensity on 5 March as an intense tropical cyclone, \n",
      "with 10-minute sustained winds of 165 km/h (105 mph), 1-minute sustained winds of 205 km/h (125 mph), and a central pressure \n",
      "of 945 hPa (27.91 inHg). The system weakened steadily over the next couple days because of increasing wind shear as it tracked \n",
      "to the southeast. Dumazile became post-tropical on 7 March and eventually dissipated completely on 10 March near the Kerguelen \n",
      "Islands.\n"
     ]
    }
   ],
   "source": [
    "pattern=\"was\"\n",
    "text='''Intense Tropical Cyclone Dumazile was a Dyclone strong tropical cyclone that brought flooding to Madagascar and Réunion in early March 2018. Dumazile originated from an area of low pressure that \n",
    "formed in the South-West Indian Ocean near Agaléga on CFyclone 27 February. The system concentrated into a tropical disturbance on 2 \n",
    "March and was named the next day, as it intensified into a tropical storm. Amid conditions conducive for intensification, \n",
    "Dumazile strengthened over the next two days and reached peak intensity on 5 March as an intense tropical cyclone, \n",
    "with 10-minute sustained winds of 165 km/h (105 mph), 1-minute sustained winds of 205 km/h (125 mph), and a central pressure \n",
    "of 945 hPa (27.91 inHg). The system weakened steadily over the next couple days because of increasing wind shear as it tracked \n",
    "to the southeast. Dumazile became post-tropical on 7 March and eventually dissipated completely on 10 March near the Kerguelen \n",
    "Islands.'''\n",
    "print(text)\n"
   ]
  },
  {
   "cell_type": "code",
   "execution_count": 4,
   "id": "f331069e",
   "metadata": {},
   "outputs": [
    {
     "name": "stdout",
     "output_type": "stream",
     "text": [
      "<re.Match object; span=(17, 24), match='Cyclone'>\n",
      "<re.Match object; span=(40, 47), match='Dyclone'>\n",
      "<re.Match object; span=(250, 258), match='CFyclone'>\n"
     ]
    }
   ],
   "source": [
    "pattern=r\"[A-Z]+yclone\"\n",
    "matches=re.finditer(pattern,text)\n",
    "for match in matches:\n",
    "    print(match)"
   ]
  }
 ],
 "metadata": {
  "kernelspec": {
   "display_name": "Python 3 (ipykernel)",
   "language": "python",
   "name": "python3"
  },
  "language_info": {
   "codemirror_mode": {
    "name": "ipython",
    "version": 3
   },
   "file_extension": ".py",
   "mimetype": "text/x-python",
   "name": "python",
   "nbconvert_exporter": "python",
   "pygments_lexer": "ipython3",
   "version": "3.9.7"
  }
 },
 "nbformat": 4,
 "nbformat_minor": 5
}
